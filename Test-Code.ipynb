{
 "cells": [
  {
   "cell_type": "markdown",
   "metadata": {},
   "source": [
    "> # PublicDataReader Test Code"
   ]
  },
  {
   "cell_type": "markdown",
   "metadata": {},
   "source": [
    "## Library"
   ]
  },
  {
   "cell_type": "code",
   "execution_count": 1,
   "metadata": {},
   "outputs": [
    {
     "name": "stdout",
     "output_type": "stream",
     "text": [
      "\n",
      ">>> PublicDataReader Version : 0.1.0\n",
      "\n",
      "- Author : Wooil Jeong\n",
      "- E-mail : wooil@kakao.com\n",
      "- Github : https://github.com/WooilJeong/PublicDataReader\n",
      "- Blog : https://wooiljeong.github.io\n",
      "\n"
     ]
    }
   ],
   "source": [
    "import PublicDataReader as pdr\n",
    "print(pdr.__version__)"
   ]
  },
  {
   "cell_type": "markdown",
   "metadata": {},
   "source": [
    "## Open API 서비스키 초기화"
   ]
  },
  {
   "cell_type": "code",
   "execution_count": 2,
   "metadata": {},
   "outputs": [],
   "source": [
    "serviceKey = open('.api_key').read().replace('\\n','')"
   ]
  },
  {
   "cell_type": "code",
   "execution_count": 3,
   "metadata": {},
   "outputs": [
    {
     "name": "stdout",
     "output_type": "stream",
     "text": [
      ">>> 서비스가 정상 작동합니다.\n",
      ">>> 서비스가 정상 작동합니다.\n",
      ">>> 서비스가 정상 작동합니다.\n",
      ">>> 서비스가 정상 작동합니다.\n"
     ]
    }
   ],
   "source": [
    "AptTrade = pdr.AptTradeReader(serviceKey)\n",
    "AptTradeDetail = pdr.AptTradeDetailReader(serviceKey)\n",
    "AptRent = pdr.AptRentReader(serviceKey)\n",
    "AptOwnership = pdr.AptOwnershipReader(serviceKey)"
   ]
  },
  {
   "cell_type": "code",
   "execution_count": 4,
   "metadata": {},
   "outputs": [
    {
     "data": {
      "text/html": [
       "<div>\n",
       "<style scoped>\n",
       "    .dataframe tbody tr th:only-of-type {\n",
       "        vertical-align: middle;\n",
       "    }\n",
       "\n",
       "    .dataframe tbody tr th {\n",
       "        vertical-align: top;\n",
       "    }\n",
       "\n",
       "    .dataframe thead th {\n",
       "        text-align: right;\n",
       "    }\n",
       "</style>\n",
       "<table border=\"1\" class=\"dataframe\">\n",
       "  <thead>\n",
       "    <tr style=\"text-align: right;\">\n",
       "      <th></th>\n",
       "      <th>법정동명</th>\n",
       "      <th>법정구코드</th>\n",
       "    </tr>\n",
       "  </thead>\n",
       "  <tbody>\n",
       "    <tr>\n",
       "      <td>0</td>\n",
       "      <td>경기도 성남시 분당구</td>\n",
       "      <td>41135</td>\n",
       "    </tr>\n",
       "    <tr>\n",
       "      <td>1</td>\n",
       "      <td>경기도 성남시 분당구 분당동</td>\n",
       "      <td>41135</td>\n",
       "    </tr>\n",
       "  </tbody>\n",
       "</table>\n",
       "</div>"
      ],
      "text/plain": [
       "              법정동명  법정구코드\n",
       "0      경기도 성남시 분당구  41135\n",
       "1  경기도 성남시 분당구 분당동  41135"
      ]
     },
     "execution_count": 4,
     "metadata": {},
     "output_type": "execute_result"
    }
   ],
   "source": [
    "# 지역코드 검색기\n",
    "df_code = AptTrade.CodeFinder(\"분당구\")\n",
    "df_code.head(2)"
   ]
  },
  {
   "cell_type": "code",
   "execution_count": 5,
   "metadata": {},
   "outputs": [
    {
     "name": "stdout",
     "output_type": "stream",
     "text": [
      "http://openapi.molit.go.kr/OpenAPI_ToolInstallPackage/service/rest/RTMSOBJSvc/getRTMSDataSvcSilvTrade?LAWD_CD=41135&DEAL_YMD=201911&serviceKey=BwiUXHxKLbhtkG0GGiNBfsOmWWuHTTB4yqPPdlqa2XXljyo7voPQqNMVyp1moUSEUPUfeWZJ0JWTElciFh3okw%3D%3D\n"
     ]
    }
   ],
   "source": [
    "# 특정 월 아파트매매 실거래자료 수집기\n",
    "df = AptOwnership.DataReader(\"41135\", \"201911\")"
   ]
  },
  {
   "cell_type": "code",
   "execution_count": 7,
   "metadata": {},
   "outputs": [
    {
     "data": {
      "text/html": [
       "<div>\n",
       "<style scoped>\n",
       "    .dataframe tbody tr th:only-of-type {\n",
       "        vertical-align: middle;\n",
       "    }\n",
       "\n",
       "    .dataframe tbody tr th {\n",
       "        vertical-align: top;\n",
       "    }\n",
       "\n",
       "    .dataframe thead th {\n",
       "        text-align: right;\n",
       "    }\n",
       "</style>\n",
       "<table border=\"1\" class=\"dataframe\">\n",
       "  <thead>\n",
       "    <tr style=\"text-align: right;\">\n",
       "      <th></th>\n",
       "      <th>지역코드</th>\n",
       "      <th>법정동</th>\n",
       "      <th>거래일</th>\n",
       "      <th>시군구</th>\n",
       "      <th>단지</th>\n",
       "      <th>지번</th>\n",
       "      <th>구분</th>\n",
       "      <th>전용면적</th>\n",
       "      <th>층</th>\n",
       "      <th>거래금액</th>\n",
       "    </tr>\n",
       "  </thead>\n",
       "  <tbody>\n",
       "    <tr>\n",
       "      <td>0</td>\n",
       "      <td>41135</td>\n",
       "      <td>백현동</td>\n",
       "      <td>2019-11-02</td>\n",
       "      <td>성남분당구</td>\n",
       "      <td>판교 더샵 퍼스트파크</td>\n",
       "      <td>516</td>\n",
       "      <td>NaN</td>\n",
       "      <td>114.5609</td>\n",
       "      <td>17</td>\n",
       "      <td>114010</td>\n",
       "    </tr>\n",
       "    <tr>\n",
       "      <td>1</td>\n",
       "      <td>41135</td>\n",
       "      <td>백현동</td>\n",
       "      <td>2019-11-06</td>\n",
       "      <td>성남분당구</td>\n",
       "      <td>판교 더샵 퍼스트파크</td>\n",
       "      <td>516</td>\n",
       "      <td>NaN</td>\n",
       "      <td>114.5609</td>\n",
       "      <td>21</td>\n",
       "      <td>119480</td>\n",
       "    </tr>\n",
       "    <tr>\n",
       "      <td>2</td>\n",
       "      <td>41135</td>\n",
       "      <td>백현동</td>\n",
       "      <td>2019-11-15</td>\n",
       "      <td>성남분당구</td>\n",
       "      <td>판교 더샵 퍼스트파크</td>\n",
       "      <td>516</td>\n",
       "      <td>NaN</td>\n",
       "      <td>114.8623</td>\n",
       "      <td>6</td>\n",
       "      <td>118910</td>\n",
       "    </tr>\n",
       "    <tr>\n",
       "      <td>3</td>\n",
       "      <td>41135</td>\n",
       "      <td>백현동</td>\n",
       "      <td>2019-11-18</td>\n",
       "      <td>성남분당구</td>\n",
       "      <td>판교 더샵 퍼스트파크</td>\n",
       "      <td>516</td>\n",
       "      <td>NaN</td>\n",
       "      <td>114.5609</td>\n",
       "      <td>20</td>\n",
       "      <td>119480</td>\n",
       "    </tr>\n",
       "    <tr>\n",
       "      <td>4</td>\n",
       "      <td>41135</td>\n",
       "      <td>백현동</td>\n",
       "      <td>2019-11-18</td>\n",
       "      <td>성남분당구</td>\n",
       "      <td>판교 더샵 퍼스트파크</td>\n",
       "      <td>516</td>\n",
       "      <td>NaN</td>\n",
       "      <td>114.8623</td>\n",
       "      <td>1</td>\n",
       "      <td>112020</td>\n",
       "    </tr>\n",
       "  </tbody>\n",
       "</table>\n",
       "</div>"
      ],
      "text/plain": [
       "    지역코드  법정동        거래일    시군구           단지   지번  구분      전용면적   층    거래금액\n",
       "0  41135  백현동 2019-11-02  성남분당구  판교 더샵 퍼스트파크  516 NaN  114.5609  17  114010\n",
       "1  41135  백현동 2019-11-06  성남분당구  판교 더샵 퍼스트파크  516 NaN  114.5609  21  119480\n",
       "2  41135  백현동 2019-11-15  성남분당구  판교 더샵 퍼스트파크  516 NaN  114.8623   6  118910\n",
       "3  41135  백현동 2019-11-18  성남분당구  판교 더샵 퍼스트파크  516 NaN  114.5609  20  119480\n",
       "4  41135  백현동 2019-11-18  성남분당구  판교 더샵 퍼스트파크  516 NaN  114.8623   1  112020"
      ]
     },
     "execution_count": 7,
     "metadata": {},
     "output_type": "execute_result"
    }
   ],
   "source": [
    "df.head()"
   ]
  },
  {
   "cell_type": "code",
   "execution_count": 8,
   "metadata": {},
   "outputs": [
    {
     "data": {
      "text/html": [
       "<div>\n",
       "<style scoped>\n",
       "    .dataframe tbody tr th:only-of-type {\n",
       "        vertical-align: middle;\n",
       "    }\n",
       "\n",
       "    .dataframe tbody tr th {\n",
       "        vertical-align: top;\n",
       "    }\n",
       "\n",
       "    .dataframe thead th {\n",
       "        text-align: right;\n",
       "    }\n",
       "</style>\n",
       "<table border=\"1\" class=\"dataframe\">\n",
       "  <thead>\n",
       "    <tr style=\"text-align: right;\">\n",
       "      <th></th>\n",
       "      <th>지역코드</th>\n",
       "      <th>법정동</th>\n",
       "      <th>거래일</th>\n",
       "      <th>시군구</th>\n",
       "      <th>단지</th>\n",
       "      <th>지번</th>\n",
       "      <th>구분</th>\n",
       "      <th>전용면적</th>\n",
       "      <th>층</th>\n",
       "      <th>거래금액</th>\n",
       "    </tr>\n",
       "  </thead>\n",
       "  <tbody>\n",
       "    <tr>\n",
       "      <td>1</td>\n",
       "      <td>41135</td>\n",
       "      <td>백현동</td>\n",
       "      <td>2019-11-06</td>\n",
       "      <td>성남분당구</td>\n",
       "      <td>판교 더샵 퍼스트파크</td>\n",
       "      <td>516</td>\n",
       "      <td>NaN</td>\n",
       "      <td>114.5609</td>\n",
       "      <td>21</td>\n",
       "      <td>119480</td>\n",
       "    </tr>\n",
       "    <tr>\n",
       "      <td>2</td>\n",
       "      <td>41135</td>\n",
       "      <td>백현동</td>\n",
       "      <td>2019-11-15</td>\n",
       "      <td>성남분당구</td>\n",
       "      <td>판교 더샵 퍼스트파크</td>\n",
       "      <td>516</td>\n",
       "      <td>NaN</td>\n",
       "      <td>114.8623</td>\n",
       "      <td>6</td>\n",
       "      <td>118910</td>\n",
       "    </tr>\n",
       "    <tr>\n",
       "      <td>3</td>\n",
       "      <td>41135</td>\n",
       "      <td>백현동</td>\n",
       "      <td>2019-11-18</td>\n",
       "      <td>성남분당구</td>\n",
       "      <td>판교 더샵 퍼스트파크</td>\n",
       "      <td>516</td>\n",
       "      <td>NaN</td>\n",
       "      <td>114.5609</td>\n",
       "      <td>20</td>\n",
       "      <td>119480</td>\n",
       "    </tr>\n",
       "    <tr>\n",
       "      <td>4</td>\n",
       "      <td>41135</td>\n",
       "      <td>백현동</td>\n",
       "      <td>2019-11-18</td>\n",
       "      <td>성남분당구</td>\n",
       "      <td>판교 더샵 퍼스트파크</td>\n",
       "      <td>516</td>\n",
       "      <td>NaN</td>\n",
       "      <td>114.8623</td>\n",
       "      <td>1</td>\n",
       "      <td>112020</td>\n",
       "    </tr>\n",
       "    <tr>\n",
       "      <td>5</td>\n",
       "      <td>41135</td>\n",
       "      <td>백현동</td>\n",
       "      <td>2019-11-25</td>\n",
       "      <td>성남분당구</td>\n",
       "      <td>판교 더샵 퍼스트파크</td>\n",
       "      <td>516</td>\n",
       "      <td>NaN</td>\n",
       "      <td>84.8034</td>\n",
       "      <td>7</td>\n",
       "      <td>93050</td>\n",
       "    </tr>\n",
       "  </tbody>\n",
       "</table>\n",
       "</div>"
      ],
      "text/plain": [
       "    지역코드  법정동        거래일    시군구           단지   지번  구분      전용면적   층    거래금액\n",
       "1  41135  백현동 2019-11-06  성남분당구  판교 더샵 퍼스트파크  516 NaN  114.5609  21  119480\n",
       "2  41135  백현동 2019-11-15  성남분당구  판교 더샵 퍼스트파크  516 NaN  114.8623   6  118910\n",
       "3  41135  백현동 2019-11-18  성남분당구  판교 더샵 퍼스트파크  516 NaN  114.5609  20  119480\n",
       "4  41135  백현동 2019-11-18  성남분당구  판교 더샵 퍼스트파크  516 NaN  114.8623   1  112020\n",
       "5  41135  백현동 2019-11-25  성남분당구  판교 더샵 퍼스트파크  516 NaN   84.8034   7   93050"
      ]
     },
     "execution_count": 8,
     "metadata": {},
     "output_type": "execute_result"
    }
   ],
   "source": [
    "df.tail()"
   ]
  },
  {
   "cell_type": "code",
   "execution_count": 9,
   "metadata": {},
   "outputs": [
    {
     "name": "stdout",
     "output_type": "stream",
     "text": [
      ">>> LAWD_CD : 41135 DEAL_YMD : 202001\n",
      "http://openapi.molit.go.kr/OpenAPI_ToolInstallPackage/service/rest/RTMSOBJSvc/getRTMSDataSvcSilvTrade?LAWD_CD=41135&DEAL_YMD=202001&serviceKey=BwiUXHxKLbhtkG0GGiNBfsOmWWuHTTB4yqPPdlqa2XXljyo7voPQqNMVyp1moUSEUPUfeWZJ0JWTElciFh3okw%3D%3D\n",
      ">>> LAWD_CD : 41135 DEAL_YMD : 202002\n",
      "http://openapi.molit.go.kr/OpenAPI_ToolInstallPackage/service/rest/RTMSOBJSvc/getRTMSDataSvcSilvTrade?LAWD_CD=41135&DEAL_YMD=202002&serviceKey=BwiUXHxKLbhtkG0GGiNBfsOmWWuHTTB4yqPPdlqa2XXljyo7voPQqNMVyp1moUSEUPUfeWZJ0JWTElciFh3okw%3D%3D\n",
      ">>> LAWD_CD : 41135 DEAL_YMD : 202003\n",
      "http://openapi.molit.go.kr/OpenAPI_ToolInstallPackage/service/rest/RTMSOBJSvc/getRTMSDataSvcSilvTrade?LAWD_CD=41135&DEAL_YMD=202003&serviceKey=BwiUXHxKLbhtkG0GGiNBfsOmWWuHTTB4yqPPdlqa2XXljyo7voPQqNMVyp1moUSEUPUfeWZJ0JWTElciFh3okw%3D%3D\n",
      ">>> LAWD_CD : 41135 DEAL_YMD : 202004\n",
      "http://openapi.molit.go.kr/OpenAPI_ToolInstallPackage/service/rest/RTMSOBJSvc/getRTMSDataSvcSilvTrade?LAWD_CD=41135&DEAL_YMD=202004&serviceKey=BwiUXHxKLbhtkG0GGiNBfsOmWWuHTTB4yqPPdlqa2XXljyo7voPQqNMVyp1moUSEUPUfeWZJ0JWTElciFh3okw%3D%3D\n",
      ">>> Python Logic Error. e-mail : wooil@kakao.com\n"
     ]
    },
    {
     "data": {
      "text/html": [
       "<div>\n",
       "<style scoped>\n",
       "    .dataframe tbody tr th:only-of-type {\n",
       "        vertical-align: middle;\n",
       "    }\n",
       "\n",
       "    .dataframe tbody tr th {\n",
       "        vertical-align: top;\n",
       "    }\n",
       "\n",
       "    .dataframe thead th {\n",
       "        text-align: right;\n",
       "    }\n",
       "</style>\n",
       "<table border=\"1\" class=\"dataframe\">\n",
       "  <thead>\n",
       "    <tr style=\"text-align: right;\">\n",
       "      <th></th>\n",
       "      <th>지역코드</th>\n",
       "      <th>법정동</th>\n",
       "      <th>거래일</th>\n",
       "      <th>시군구</th>\n",
       "      <th>단지</th>\n",
       "      <th>지번</th>\n",
       "      <th>구분</th>\n",
       "      <th>전용면적</th>\n",
       "      <th>층</th>\n",
       "      <th>거래금액</th>\n",
       "    </tr>\n",
       "  </thead>\n",
       "  <tbody>\n",
       "    <tr>\n",
       "      <td>11</td>\n",
       "      <td>41135</td>\n",
       "      <td>정자동</td>\n",
       "      <td>2020-02-27</td>\n",
       "      <td>성남분당구</td>\n",
       "      <td>상록마을(우성)1</td>\n",
       "      <td>121</td>\n",
       "      <td>NaN</td>\n",
       "      <td>129.72</td>\n",
       "      <td>4</td>\n",
       "      <td>108000</td>\n",
       "    </tr>\n",
       "    <tr>\n",
       "      <td>12</td>\n",
       "      <td>41135</td>\n",
       "      <td>백현동</td>\n",
       "      <td>2020-03-02</td>\n",
       "      <td>성남분당구</td>\n",
       "      <td>판교 더샵 퍼스트파크</td>\n",
       "      <td>516</td>\n",
       "      <td>NaN</td>\n",
       "      <td>84.8034</td>\n",
       "      <td>17</td>\n",
       "      <td>95180</td>\n",
       "    </tr>\n",
       "    <tr>\n",
       "      <td>13</td>\n",
       "      <td>41135</td>\n",
       "      <td>백현동</td>\n",
       "      <td>2020-03-04</td>\n",
       "      <td>성남분당구</td>\n",
       "      <td>판교 더샵 퍼스트파크</td>\n",
       "      <td>516</td>\n",
       "      <td>NaN</td>\n",
       "      <td>114.8623</td>\n",
       "      <td>7</td>\n",
       "      <td>119640</td>\n",
       "    </tr>\n",
       "    <tr>\n",
       "      <td>14</td>\n",
       "      <td>41135</td>\n",
       "      <td>백현동</td>\n",
       "      <td>2020-03-12</td>\n",
       "      <td>성남분당구</td>\n",
       "      <td>판교 더샵 퍼스트파크</td>\n",
       "      <td>516</td>\n",
       "      <td>NaN</td>\n",
       "      <td>84.953</td>\n",
       "      <td>8</td>\n",
       "      <td>91990</td>\n",
       "    </tr>\n",
       "    <tr>\n",
       "      <td>15</td>\n",
       "      <td>41135</td>\n",
       "      <td>백현동</td>\n",
       "      <td>2020-03-17</td>\n",
       "      <td>성남분당구</td>\n",
       "      <td>판교 더샵 퍼스트파크</td>\n",
       "      <td>516</td>\n",
       "      <td>NaN</td>\n",
       "      <td>84.953</td>\n",
       "      <td>8</td>\n",
       "      <td>96600</td>\n",
       "    </tr>\n",
       "  </tbody>\n",
       "</table>\n",
       "</div>"
      ],
      "text/plain": [
       "     지역코드  법정동        거래일    시군구           단지   지번  구분      전용면적   층    거래금액\n",
       "11  41135  정자동 2020-02-27  성남분당구    상록마을(우성)1  121 NaN    129.72   4  108000\n",
       "12  41135  백현동 2020-03-02  성남분당구  판교 더샵 퍼스트파크  516 NaN   84.8034  17   95180\n",
       "13  41135  백현동 2020-03-04  성남분당구  판교 더샵 퍼스트파크  516 NaN  114.8623   7  119640\n",
       "14  41135  백현동 2020-03-12  성남분당구  판교 더샵 퍼스트파크  516 NaN    84.953   8   91990\n",
       "15  41135  백현동 2020-03-17  성남분당구  판교 더샵 퍼스트파크  516 NaN    84.953   8   96600"
      ]
     },
     "execution_count": 9,
     "metadata": {},
     "output_type": "execute_result"
    }
   ],
   "source": [
    "# 특정 기간 아파트매매 실거래 상세 자료 수집기\n",
    "df_sum = AptOwnership.DataCollector(\"41135\", \"2020-01\", \"2020-04\")\n",
    "df_sum.tail()"
   ]
  },
  {
   "cell_type": "code",
   "execution_count": 11,
   "metadata": {},
   "outputs": [],
   "source": [
    "# 법정동 별 아파트매매 실거래 상세 자료 요약 통계량 확인하기\n",
    "df_agg = AptOwnership.Agg(df)\n",
    "df_sum_agg = AptOwnership.Agg(df_sum)"
   ]
  },
  {
   "cell_type": "code",
   "execution_count": 12,
   "metadata": {},
   "outputs": [
    {
     "data": {
      "text/html": [
       "<div>\n",
       "<style scoped>\n",
       "    .dataframe tbody tr th:only-of-type {\n",
       "        vertical-align: middle;\n",
       "    }\n",
       "\n",
       "    .dataframe tbody tr th {\n",
       "        vertical-align: top;\n",
       "    }\n",
       "\n",
       "    .dataframe thead th {\n",
       "        text-align: right;\n",
       "    }\n",
       "</style>\n",
       "<table border=\"1\" class=\"dataframe\">\n",
       "  <thead>\n",
       "    <tr style=\"text-align: right;\">\n",
       "      <th></th>\n",
       "      <th>법정동</th>\n",
       "      <th>중앙값</th>\n",
       "      <th>평균값</th>\n",
       "      <th>최솟값</th>\n",
       "      <th>최댓값</th>\n",
       "      <th>표준편차</th>\n",
       "      <th>거래량</th>\n",
       "    </tr>\n",
       "  </thead>\n",
       "  <tbody>\n",
       "    <tr>\n",
       "      <td>0</td>\n",
       "      <td>백현동</td>\n",
       "      <td>97325</td>\n",
       "      <td>107301</td>\n",
       "      <td>91990</td>\n",
       "      <td>143500</td>\n",
       "      <td>17816</td>\n",
       "      <td>14</td>\n",
       "    </tr>\n",
       "    <tr>\n",
       "      <td>1</td>\n",
       "      <td>정자동</td>\n",
       "      <td>114500</td>\n",
       "      <td>114500</td>\n",
       "      <td>108000</td>\n",
       "      <td>121000</td>\n",
       "      <td>9192</td>\n",
       "      <td>2</td>\n",
       "    </tr>\n",
       "  </tbody>\n",
       "</table>\n",
       "</div>"
      ],
      "text/plain": [
       "   법정동     중앙값     평균값     최솟값     최댓값   표준편차  거래량\n",
       "0  백현동   97325  107301   91990  143500  17816   14\n",
       "1  정자동  114500  114500  108000  121000   9192    2"
      ]
     },
     "execution_count": 12,
     "metadata": {},
     "output_type": "execute_result"
    }
   ],
   "source": [
    "df_sum_agg"
   ]
  }
 ],
 "metadata": {
  "kernelspec": {
   "display_name": "Python 3",
   "language": "python",
   "name": "python3"
  },
  "language_info": {
   "codemirror_mode": {
    "name": "ipython",
    "version": 3
   },
   "file_extension": ".py",
   "mimetype": "text/x-python",
   "name": "python",
   "nbconvert_exporter": "python",
   "pygments_lexer": "ipython3",
   "version": "3.7.4"
  }
 },
 "nbformat": 4,
 "nbformat_minor": 2
}
